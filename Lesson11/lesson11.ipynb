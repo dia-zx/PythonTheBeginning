{
 "cells": [
  {
   "cell_type": "markdown",
   "metadata": {},
   "source": [
    "# Знакомство с языком Python (семинары)\n",
    "\n",
    "Дана функция:\n",
    "f(x) = 18x<sup>3</sup> + 5x<sup>2</sup> + 10x - 30\n",
    "\n",
    "Необходимо:\n",
    "- Определить корни\n",
    "- Найти интервалы, на которых функция возрастает\n",
    "- Найти интервалы, на которых функция убывает\n",
    "- Построить график\n",
    "- Определить промежутки, на котором f > 0\n",
    "- Определить промежутки, на котором f < 0"
   ]
  },
  {
   "cell_type": "code",
   "execution_count": null,
   "metadata": {},
   "outputs": [],
   "source": []
  }
 ],
 "metadata": {
  "kernelspec": {
   "display_name": "Python 3.10.7 64-bit",
   "language": "python",
   "name": "python3"
  },
  "language_info": {
   "name": "python",
   "version": "3.10.7"
  },
  "orig_nbformat": 4,
  "vscode": {
   "interpreter": {
    "hash": "feabd682d07e1de51ad16ab4c1d1a4968bc1b5ada19ac01ce8b5d3e05f7cf136"
   }
  }
 },
 "nbformat": 4,
 "nbformat_minor": 2
}
